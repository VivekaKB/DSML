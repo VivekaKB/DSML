{
  "nbformat": 4,
  "nbformat_minor": 0,
  "metadata": {
    "colab": {
      "name": "DNN on MNIST dataset.ipynb",
      "provenance": []
    },
    "kernelspec": {
      "name": "python3",
      "display_name": "Python 3"
    },
    "language_info": {
      "name": "python"
    }
  },
  "cells": [
    {
      "cell_type": "code",
      "execution_count": 1,
      "metadata": {
        "id": "Uw22wcLjyCAk"
      },
      "outputs": [],
      "source": [
        "import tensorflow as tf\n",
        "from tensorflow import keras\n",
        "import matplotlib.pyplot as plt"
      ]
    },
    {
      "cell_type": "code",
      "source": [
        "mnistDB=keras.datasets.mnist\n",
        "(x_train,y_train),(x_test,y_test)=mnistDB.load_data()"
      ],
      "metadata": {
        "id": "4RJqzTovyLfA"
      },
      "execution_count": 8,
      "outputs": []
    },
    {
      "cell_type": "code",
      "source": [
        "x_train=x_train.reshape((60000,28*28))\n",
        "x_test=x_test.reshape((10000,28*28))\n"
      ],
      "metadata": {
        "id": "R8yHO8P62BV0"
      },
      "execution_count": 9,
      "outputs": []
    },
    {
      "cell_type": "code",
      "source": [
        "x_train=x_train.astype('float32')/255\n",
        "x_test=x_test.astype('float32')/255"
      ],
      "metadata": {
        "id": "tsSifcwS1_4U"
      },
      "execution_count": 10,
      "outputs": []
    },
    {
      "cell_type": "code",
      "source": [
        "ML=keras.models.Sequential()"
      ],
      "metadata": {
        "id": "roTQf7sa2qbY"
      },
      "execution_count": 13,
      "outputs": []
    },
    {
      "cell_type": "code",
      "source": [
        "ML.add(keras.layers.Dense(units=50,activation='relu',input_shape=x_train.shape[1:]))\n",
        "ML.add(keras.layers.Dense(units=100,activation='relu'))\n",
        "ML.add(keras.layers.Dense(units=70,activation='relu'))"
      ],
      "metadata": {
        "id": "FqWt9Ehz251f"
      },
      "execution_count": 15,
      "outputs": []
    },
    {
      "cell_type": "code",
      "source": [
        "ML.add(keras.layers.Dense(units=10,activation='softmax'))\n",
        "ML.summary()"
      ],
      "metadata": {
        "colab": {
          "base_uri": "https://localhost:8080/"
        },
        "id": "XULNOg-N3jnH",
        "outputId": "36ffd6d3-e208-483f-e352-de0ec17b54fb"
      },
      "execution_count": 16,
      "outputs": [
        {
          "output_type": "stream",
          "name": "stdout",
          "text": [
            "Model: \"sequential\"\n",
            "_________________________________________________________________\n",
            " Layer (type)                Output Shape              Param #   \n",
            "=================================================================\n",
            " dense (Dense)               (None, 50)                39250     \n",
            "                                                                 \n",
            " dense_1 (Dense)             (None, 100)               5100      \n",
            "                                                                 \n",
            " dense_2 (Dense)             (None, 50)                5050      \n",
            "                                                                 \n",
            " dense_3 (Dense)             (None, 100)               5100      \n",
            "                                                                 \n",
            " dense_4 (Dense)             (None, 70)                7070      \n",
            "                                                                 \n",
            " dense_5 (Dense)             (None, 10)                710       \n",
            "                                                                 \n",
            "=================================================================\n",
            "Total params: 62,280\n",
            "Trainable params: 62,280\n",
            "Non-trainable params: 0\n",
            "_________________________________________________________________\n"
          ]
        }
      ]
    },
    {
      "cell_type": "code",
      "source": [
        "ML.compile(loss='sparse_categorical_crossentropy',optimizer='adam',metrics=['accuracy'])\n"
      ],
      "metadata": {
        "id": "bhXlbr3x3yuk"
      },
      "execution_count": 17,
      "outputs": []
    },
    {
      "cell_type": "code",
      "source": [
        "ML.fit(x_train,y_train,epochs=1,batch_size=16)\n",
        "test_loss,test_acc=ML.evaluate(x_test,y_test)"
      ],
      "metadata": {
        "colab": {
          "base_uri": "https://localhost:8080/"
        },
        "id": "U75YIljT4Xi6",
        "outputId": "fc41bfc1-7a7a-400d-b8fd-585f5a67cf75"
      },
      "execution_count": 18,
      "outputs": [
        {
          "output_type": "stream",
          "name": "stdout",
          "text": [
            "3750/3750 [==============================] - 11s 3ms/step - loss: 0.2737 - accuracy: 0.9154\n",
            "313/313 [==============================] - 1s 2ms/step - loss: 0.1401 - accuracy: 0.9591\n"
          ]
        }
      ]
    },
    {
      "cell_type": "code",
      "source": [
        "from keras.preprocessing.image import load_img\n",
        "from keras.preprocessing.image import img_to_array\n",
        "from keras.models import load_model"
      ],
      "metadata": {
        "id": "SfmaEnXg4vUp"
      },
      "execution_count": 20,
      "outputs": []
    },
    {
      "cell_type": "code",
      "source": [
        "img=load_img('/content/1.jpg',grayscale=True,target_size=(28,28))\n"
      ],
      "metadata": {
        "colab": {
          "base_uri": "https://localhost:8080/"
        },
        "id": "VgdWDLtF6Gxl",
        "outputId": "58929971-59f6-482e-daef-5ee680e1c28f"
      },
      "execution_count": 28,
      "outputs": [
        {
          "output_type": "stream",
          "name": "stderr",
          "text": [
            "/usr/local/lib/python3.7/dist-packages/keras_preprocessing/image/utils.py:107: UserWarning: grayscale is deprecated. Please use color_mode = \"grayscale\"\n",
            "  warnings.warn('grayscale is deprecated. Please use '\n"
          ]
        }
      ]
    },
    {
      "cell_type": "code",
      "source": [
        "plt.imshow(img)\n",
        "img=img_to_array(img)"
      ],
      "metadata": {
        "colab": {
          "base_uri": "https://localhost:8080/",
          "height": 265
        },
        "id": "uY1KN5wS6aS-",
        "outputId": "0a198d4e-225c-4748-bad2-cde6e3ed3d38"
      },
      "execution_count": 29,
      "outputs": [
        {
          "output_type": "display_data",
          "data": {
            "image/png": "[encoded data removed]",
            "text/plain": [
              "<Figure size 432x288 with 1 Axes>"
            ]
          },
          "metadata": {
            "needs_background": "light"
          }
        }
      ]
    },
    {
      "cell_type": "code",
      "source": [
        "img=img.reshape(1,28*28)"
      ],
      "metadata": {
        "id": "RzO0EAs36lhD"
      },
      "execution_count": 23,
      "outputs": []
    },
    {
      "cell_type": "code",
      "source": [
        "img=img.astype('float32')/255.0\n",
        "digit=ML.predict(img)\n",
        "print('digit is',digit[0])"
      ],
      "metadata": {
        "colab": {
          "base_uri": "https://localhost:8080/"
        },
        "id": "ZFGdp19y6r7b",
        "outputId": "aeaf789a-4798-4e06-b019-0e54d2e0b7b7"
      },
      "execution_count": 27,
      "outputs": [
        {
          "output_type": "stream",
          "name": "stdout",
          "text": [
            "digit is [0.04915041 0.10025375 0.06872559 0.07894335 0.10164971 0.24689165\n",
            " 0.07132211 0.07750957 0.10479683 0.10075694]\n"
          ]
        }
      ]
    }
  ]
}