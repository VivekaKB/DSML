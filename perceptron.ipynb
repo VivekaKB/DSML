{
  "nbformat": 4,
  "nbformat_minor": 0,
  "metadata": {
    "colab": {
      "name": "perceptron.ipynb",
      "provenance": [],
      "collapsed_sections": []
    },
    "kernelspec": {
      "name": "python3",
      "display_name": "Python 3"
    },
    "language_info": {
      "name": "python"
    }
  },
  "cells": [
    {
      "cell_type": "code",
      "metadata": {
        "colab": {
          "base_uri": "https://localhost:8080/"
        },
        "id": "ze9UTSlwd1qY",
        "outputId": "8dfb3bcb-2583-415d-d1d9-6577c98803b7"
      },
      "source": [
        "from sklearn.linear_model import Perceptron\n",
        "x=[[1,0],[1,1],[2,0]]\n",
        "y=[\"boy\",\"girl\",\"boy\"]\n",
        "ML=Perceptron()\n",
        "ML=ML.fit(x,y)\n",
        "result=ML.predict([[1,0],[2,0]])\n",
        "print(result)"
      ],
      "execution_count": 1,
      "outputs": [
        {
          "output_type": "stream",
          "name": "stdout",
          "text": [
            "['boy' 'boy']\n"
          ]
        }
      ]
    },
    {
      "cell_type": "code",
      "metadata": {
        "colab": {
          "base_uri": "https://localhost:8080/"
        },
        "id": "R0eYXFu-fHL7",
        "outputId": "ec5bdfd3-b213-4f30-f170-616823f676a5"
      },
      "source": [
        "from sklearn.neural_network import MLPClassifier\n",
        "x=[[1,0],[1,1],[2,0]]\n",
        "y=[\"boy\",\"girl\",\"boy\"]\n",
        "ML=MLPClassifier(hidden_layer_sizes=(10),activation='relu')\n",
        "ML=ML.fit(x,y)\n",
        "result=ML.predict([[1,0],[1,1]])\n",
        "print(result)"
      ],
      "execution_count": 2,
      "outputs": [
        {
          "output_type": "stream",
          "name": "stdout",
          "text": [
            "['boy' 'girl']\n"
          ]
        },
        {
          "output_type": "stream",
          "name": "stderr",
          "text": [
            "/usr/local/lib/python3.7/dist-packages/sklearn/neural_network/_multilayer_perceptron.py:696: ConvergenceWarning: Stochastic Optimizer: Maximum iterations (200) reached and the optimization hasn't converged yet.\n",
            "  ConvergenceWarning,\n"
          ]
        }
      ]
    }
  ]
}